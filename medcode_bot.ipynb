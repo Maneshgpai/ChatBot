{
  "nbformat": 4,
  "nbformat_minor": 0,
  "metadata": {
    "colab": {
      "provenance": [],
      "authorship_tag": "ABX9TyP9dmWs9O01bMwvn2MswGBH",
      "include_colab_link": true
    },
    "kernelspec": {
      "name": "python3",
      "display_name": "Python 3"
    },
    "language_info": {
      "name": "python"
    }
  },
  "cells": [
    {
      "cell_type": "markdown",
      "metadata": {
        "id": "view-in-github",
        "colab_type": "text"
      },
      "source": [
        "<a href=\"https://colab.research.google.com/github/Maneshgpai/chatbot/blob/main/medcode_bot.ipynb\" target=\"_parent\"><img src=\"https://colab.research.google.com/assets/colab-badge.svg\" alt=\"Open In Colab\"/></a>"
      ]
    },
    {
      "cell_type": "code",
      "execution_count": null,
      "metadata": {
        "id": "b9HxMcNCZySi"
      },
      "outputs": [],
      "source": [
        "pip install llama-index streamlit"
      ]
    },
    {
      "cell_type": "code",
      "source": [
        "!npm install localtunnel"
      ],
      "metadata": {
        "id": "ETh7MdDqrRDV"
      },
      "execution_count": null,
      "outputs": []
    },
    {
      "cell_type": "code",
      "source": [
        "%%writefile app.py\n",
        "import os\n",
        "import streamlit as st\n",
        "\n",
        "\n",
        "DEFAULT_TERM_STR = (\n",
        "    \"Make a list of terms and definitions that are defined in the context, \"\n",
        "    \"with one pair on each line. \"\n",
        "    \"If a term is missing it's definition, use your best judgment. \"\n",
        "    \"Write each line as as follows:\\nTerm: <term> Definition: <definition>\"\n",
        ")\n",
        "\n",
        "st.title(\"🦙 Llama Index Term Extractor 🦙\")\n",
        "\n",
        "setup_tab, upload_tab = st.tabs([\"Setup\", \"Upload/Extract Terms\"])\n",
        "\n",
        "with setup_tab:\n",
        "    st.subheader(\"LLM Setup\")\n",
        "    api_key = st.text_input(\"Enter your OpenAI API key here\", type=\"password\")\n",
        "    llm_name = st.selectbox('Which LLM?', [\"text-davinci-003\", \"gpt-3.5-turbo\", \"gpt-4\"])\n",
        "    model_temperature = st.slider(\"LLM Temperature\", min_value=0.0, max_value=1.0, step=0.1)\n",
        "    term_extract_str = st.text_area(\"The query to extract terms and definitions with.\", value=DEFAULT_TERM_STR)\n",
        "\n",
        "with upload_tab:\n",
        "    st.subheader(\"Extract and Query Definitions\")\n",
        "    document_text = st.text_area(\"Or enter raw text\")\n",
        "    if st.button(\"Extract Terms and Definitions\") and document_text:\n",
        "        with st.spinner(\"Extracting...\"):\n",
        "            extracted_terms = \"\"  # this is a placeholder!\n",
        "        st.write(extracted_terms)"
      ],
      "metadata": {
        "colab": {
          "base_uri": "https://localhost:8080/"
        },
        "id": "P_PP9w8fohTb",
        "outputId": "b5b9ada4-961d-463c-9b94-8a5e9a302055"
      },
      "execution_count": 25,
      "outputs": [
        {
          "output_type": "stream",
          "name": "stdout",
          "text": [
            "Writing app.py\n"
          ]
        }
      ]
    },
    {
      "cell_type": "code",
      "source": [
        "!streamlit run app.py &>/content/logs.txt &"
      ],
      "metadata": {
        "id": "XDHSHFKgrdcz"
      },
      "execution_count": 26,
      "outputs": []
    },
    {
      "cell_type": "code",
      "source": [
        "!npx localtunnel --port 8501 & curl ipv4.icanhazip.com"
      ],
      "metadata": {
        "colab": {
          "base_uri": "https://localhost:8080/"
        },
        "id": "vMhqG9c7riwN",
        "outputId": "13f85f26-ff6f-4638-b4a5-41849fbdf54e"
      },
      "execution_count": 29,
      "outputs": [
        {
          "output_type": "stream",
          "name": "stdout",
          "text": [
            "35.204.4.60\n",
            "\u001b[K\u001b[?25hnpx: installed 22 in 2.667s\n",
            "your url is: https://rude-cities-occur.loca.lt\n"
          ]
        }
      ]
    },
    {
      "cell_type": "markdown",
      "source": [
        "_____________________________________________________________________"
      ],
      "metadata": {
        "id": "PRFk2Dv9sVXn"
      }
    },
    {
      "cell_type": "code",
      "source": [
        "pip install langchain pypdf openai"
      ],
      "metadata": {
        "id": "6hN_rHTBpxZR"
      },
      "execution_count": null,
      "outputs": []
    },
    {
      "cell_type": "code",
      "source": [
        "import openai\n",
        "import requests\n",
        "import json\n",
        "import os\n",
        "import time\n",
        "from langchain.llms import OpenAI\n",
        "from langchain.document_loaders import TextLoader, PyPDFLoader"
      ],
      "metadata": {
        "id": "ST1fdJnZZ_uy"
      },
      "execution_count": 9,
      "outputs": []
    },
    {
      "cell_type": "code",
      "source": [
        "os.environ['OPENAI_API_KEY'] = \"sk-...5z7h\"\n",
        "openai.api_key  = os.environ['OPENAI_API_KEY']"
      ],
      "metadata": {
        "id": "MgzSn1PjaQ8R"
      },
      "execution_count": 4,
      "outputs": []
    },
    {
      "cell_type": "code",
      "source": [
        "def get_codes(query):\n",
        "    prompt = f\"Given the following doctor's dictation transcript, \\\n",
        "    provide the relevant ICD-10 and CPT codes and their descriptions:\\n\\n{query}\\n\\n\\\n",
        "    You can find an updated list of ICD codes at this site: https://www.icd10data.com/ICD10CM/Codes. \\\n",
        "    ICD-10 and CPT Codes:\"\n",
        "    response = openai.Completion.create(\n",
        "        engine=\"text-davinci-002\", prompt=prompt, max_tokens=1000, n=1, stop=None, temperature=0,\n",
        "    )\n",
        "\n",
        "    codes_text = response.choices[0].text.strip()\n",
        "    codes_table = codes_text.split(\"\\n\")\n",
        "\n",
        "    return codes_table"
      ],
      "metadata": {
        "id": "e9cI68GWavJv"
      },
      "execution_count": null,
      "outputs": []
    },
    {
      "cell_type": "code",
      "source": [
        "## Function to load file\n",
        "def load_file(file_path):\n",
        "  documents = []\n",
        "  split_tup = os.path.splitext(file_path)\n",
        "  print(split_tup)\n",
        "\n",
        "  # extract the file name and extension\n",
        "  file_extension = split_tup[1]\n",
        "  print(\"File Extension: \", file_extension)\n",
        "\n",
        "  if file_extension.casefold() == 'pdf':\n",
        "    loader = PyPDFLoader(file_path)\n",
        "  elif file_extension.casefold() == 'txt':\n",
        "    loader = TextLoader(file_path)\n",
        "  else:\n",
        "    raise Exception(\"Format not recognized!!!\")\n",
        "\n",
        "  documents = loader.load()\n",
        "  return documents"
      ],
      "metadata": {
        "id": "1nJyeTe1dqzh"
      },
      "execution_count": null,
      "outputs": []
    },
    {
      "cell_type": "code",
      "source": [
        "## Function to get transcript from audio file\n",
        "def mp3_to_text(file_path):\n",
        "    # Upload the audio file\n",
        "    with open(file_path, \"rb\") as f:\n",
        "        response = openai.Audio.transcribe(\"whisper-1\", file=f)\n",
        "\n",
        "    transcript = response['text']\n",
        "    return transcript"
      ],
      "metadata": {
        "id": "c3mAq625e8IP"
      },
      "execution_count": null,
      "outputs": []
    },
    {
      "cell_type": "code",
      "source": [
        "## Function to retract PII from PDF. Use either Google API or Llamaindex\n",
        "## https://cloud.google.com/dlp/docs/redacting-sensitive-data-images?hl=en\n",
        "## https://gpt-index.readthedocs.io/en/latest/examples/node_postprocessor/PII.html\n",
        "\n",
        "# def retract_pii()"
      ],
      "metadata": {
        "id": "UmEuRs6Ief3o"
      },
      "execution_count": null,
      "outputs": []
    },
    {
      "cell_type": "code",
      "source": [
        "def main():\n",
        "    query = \"\"\n",
        "    # audio_file_path = \"notes1.mp3\"\n",
        "    # file_path = \"content/drive/MyDrive/Colab_Notebooks/artifacts/clinical_notes/code_NA/Note 1.pdf\"\n",
        "\n",
        "    file_path = \"content/drive/MyDrive/Colab_Notebooks/artifacts/clinical_notes/code_NA/Note 3.txt\"\n",
        "\n",
        "    documents = load_file(file_path)\n",
        "    # transcript = mp3_to_text(audio_file_path)\n",
        "\n",
        "    # Step 2: Get the ICD-10 and CPT codes\n",
        "    codes_table = get_codes(query)\n",
        "    print(\"\\nICD-10 and CPT Codes Table:\")\n",
        "\n",
        "    [print(line) for line in codes_table]\n",
        "\n",
        "\n",
        "if __name__ == \"__main__\":\n",
        "    main()"
      ],
      "metadata": {
        "id": "FoGcjYmTdYqZ"
      },
      "execution_count": null,
      "outputs": []
    }
  ]
}